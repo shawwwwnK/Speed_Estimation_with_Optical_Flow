{
 "cells": [
  {
   "cell_type": "code",
   "execution_count": 1,
   "id": "0e0f60e0",
   "metadata": {},
   "outputs": [
    {
     "name": "stderr",
     "output_type": "stream",
     "text": [
      "/home/ubuntu/anaconda3/envs/cs231n/lib/python3.9/site-packages/tqdm/auto.py:22: TqdmWarning: IProgress not found. Please update jupyter and ipywidgets. See https://ipywidgets.readthedocs.io/en/stable/user_install.html\n",
      "  from .autonotebook import tqdm as notebook_tqdm\n"
     ]
    }
   ],
   "source": [
    "import torch\n",
    "import torchvision\n",
    "import numpy as np\n",
    "from utils import *\n",
    "import time\n",
    "import os\n",
    "import random\n",
    "import torch.nn as nn\n",
    "from models import *\n",
    "from dataset import *\n",
    "import matplotlib.pyplot as plt"
   ]
  },
  {
   "cell_type": "code",
   "execution_count": 4,
   "id": "43de5b09",
   "metadata": {},
   "outputs": [],
   "source": [
    "# change the path for different experiments\n",
    "flow_path = \"data/flow_mul\"\n",
    "label_path = \"data/label_mul\"\n",
    "batch_size = 16\n",
    "down_sample_rate = 1\n",
    "all_data = FlowSpeedData_new(flow_path, label_path, down_sample_rate)"
   ]
  },
  {
   "cell_type": "code",
   "execution_count": 5,
   "id": "e51ac649",
   "metadata": {},
   "outputs": [],
   "source": [
    "train_set_size = int(len(all_data)*0.8)\n",
    "val_set_size = len(all_data) - train_set_size\n",
    "torch.manual_seed(10086)\n",
    "train_set, val_set = torch.utils.data.random_split(all_data, [train_set_size, val_set_size])\n",
    "train_dataloader = torch.utils.data.DataLoader(train_set, batch_size=batch_size, shuffle=True)\n",
    "val_dataloader = torch.utils.data.DataLoader(val_set, batch_size=batch_size, shuffle=False)"
   ]
  },
  {
   "cell_type": "code",
   "execution_count": 6,
   "id": "1f923235",
   "metadata": {},
   "outputs": [
    {
     "data": {
      "text/plain": [
       "torch.Size([160, 320])"
      ]
     },
     "execution_count": 6,
     "metadata": {},
     "output_type": "execute_result"
    }
   ],
   "source": [
    "a = next(iter(train_dataloader))\n",
    "flow_size = a[0].shape[2:]\n",
    "label_size = a[1].shape\n",
    "flow_size"
   ]
  },
  {
   "cell_type": "code",
   "execution_count": 7,
   "id": "2a01484f",
   "metadata": {},
   "outputs": [],
   "source": [
    "epochs = 50\n",
    "lr = 1e-5\n",
    "reg = 1e-3\n",
    "eps = 1e-6\n",
    "device = torch.device(\"cuda\") if torch.cuda.is_available() else torch.device(\"cpu\")"
   ]
  },
  {
   "cell_type": "code",
   "execution_count": 8,
   "id": "726a18f8",
   "metadata": {},
   "outputs": [],
   "source": [
    "model = OpticalFlowRegression(flow_size)\n",
    "model.to(device)\n",
    "optimizer = torch.optim.Adam(model.parameters(), lr=lr, weight_decay=reg, eps=eps)\n",
    "loss_fn = torch.nn.MSELoss()"
   ]
  },
  {
   "cell_type": "code",
   "execution_count": 9,
   "id": "1778a8b1",
   "metadata": {},
   "outputs": [
    {
     "name": "stdout",
     "output_type": "stream",
     "text": [
      "Epoch 1: "
     ]
    },
    {
     "name": "stderr",
     "output_type": "stream",
     "text": [
      "/home/ubuntu/anaconda3/envs/cs231n/lib/python3.9/site-packages/torch/nn/modules/loss.py:529: UserWarning: Using a target size (torch.Size([16])) that is different to the input size (torch.Size([16, 1])). This will likely lead to incorrect results due to broadcasting. Please ensure they have the same size.\n",
      "  return F.mse_loss(input, target, reduction=self.reduction)\n"
     ]
    },
    {
     "name": "stdout",
     "output_type": "stream",
     "text": [
      "Train Loss: 245.0687498474121. Validation Loss: 214.87485137939453\n",
      "Epoch 2: Train Loss: 208.47818145751953. Validation Loss: 207.23600158691406\n",
      "Epoch 3: Train Loss: 202.1402066040039. Validation Loss: 203.97315368652343\n",
      "Epoch 4: Train Loss: 199.08144981384277. Validation Loss: 203.45779541015625\n",
      "Epoch 5: Train Loss: 195.31970802307129. Validation Loss: 200.50635986328126\n",
      "Epoch 6: Train Loss: 193.87405921936036. Validation Loss: 198.83032836914063\n",
      "Epoch 7: Train Loss: 191.90367324829103. Validation Loss: 197.66053619384766\n",
      "Epoch 8: Train Loss: 190.9718653869629. Validation Loss: 197.0035549926758\n",
      "Epoch 9: Train Loss: 188.84541900634767. Validation Loss: 197.95834655761718\n",
      "Epoch 10: Train Loss: 189.53880043029784. Validation Loss: 197.0326721191406\n",
      "Epoch 11: Train Loss: 187.17716403961182. Validation Loss: 196.27962615966797\n",
      "Epoch 12: Train Loss: 186.94858417510986. Validation Loss: 195.07263916015626\n",
      "Epoch 13: Train Loss: 185.50701641082765. Validation Loss: 194.79673065185546\n",
      "Epoch 14: Train Loss: 184.56011978149414. Validation Loss: 194.52990539550783\n",
      "Epoch 15: Train Loss: 183.67906425476073. Validation Loss: 193.9435415649414\n",
      "Epoch 16: Train Loss: 183.41919036865235. Validation Loss: 193.37967193603515\n",
      "Epoch 17: Train Loss: 181.74423431396485. Validation Loss: 193.19331451416016\n",
      "Epoch 18: Train Loss: 183.32317577362062. Validation Loss: 193.70254211425782\n",
      "Epoch 19: Train Loss: 181.48730796813965. Validation Loss: 192.9205926513672\n",
      "Epoch 20: Train Loss: 181.12796993255614. Validation Loss: 193.13834045410155\n",
      "Epoch 21: Train Loss: 181.32082748413086. Validation Loss: 193.23956298828125\n",
      "Epoch 22: Train Loss: 181.18604808807373. Validation Loss: 193.08047241210937\n",
      "Epoch 23: Train Loss: 180.65329502105712. Validation Loss: 192.65760986328124\n",
      "Epoch 24: Train Loss: 180.3273317337036. Validation Loss: 192.39852142333984\n",
      "Epoch 25: Train Loss: 179.37914527893065. Validation Loss: 192.40900787353516\n",
      "Epoch 26: Train Loss: 181.11986415863038. Validation Loss: 192.64595764160157\n",
      "Epoch 27: Train Loss: 179.31818279266358. Validation Loss: 193.98883178710938\n",
      "Epoch 28: Train Loss: 178.59509220123292. Validation Loss: 191.82777191162108\n",
      "Epoch 29: Train Loss: 178.67345848083497. Validation Loss: 193.1723291015625\n",
      "Epoch 30: Train Loss: 179.5535786819458. Validation Loss: 191.81677764892578\n",
      "Epoch 31: Train Loss: 178.24179447174072. Validation Loss: 192.99700927734375\n",
      "Epoch 32: Train Loss: 176.52924102783203. Validation Loss: 192.27048522949218\n",
      "Epoch 33: Train Loss: 177.64348461151124. Validation Loss: 192.63156677246093\n",
      "Epoch 34: Train Loss: 176.78727336883546. Validation Loss: 192.53338348388672\n",
      "Epoch 35: Train Loss: 177.19786895751952. Validation Loss: 192.2139520263672\n",
      "Epoch 36: Train Loss: 176.6438300704956. Validation Loss: 192.51712463378905\n",
      "Epoch 37: Train Loss: 176.69022525787352. Validation Loss: 192.88334075927733\n",
      "Epoch 38: Train Loss: 176.26339389801026. Validation Loss: 192.4222738647461\n",
      "Epoch 39: Train Loss: 176.14806373596193. Validation Loss: 193.05671325683593\n",
      "Epoch 40: Train Loss: 175.7191541290283. Validation Loss: 192.57342224121095\n",
      "Epoch 41: Train Loss: 174.85767032623292. Validation Loss: 191.68850982666015\n",
      "Epoch 42: Train Loss: 175.39296886444092. Validation Loss: 192.9516143798828\n",
      "Epoch 43: Train Loss: 175.68471393585205. Validation Loss: 191.55704925537108\n",
      "Epoch 44: Train Loss: 174.3088077545166. Validation Loss: 192.00319580078124\n",
      "Epoch 45: Train Loss: 174.1800206375122. Validation Loss: 191.81406311035155\n",
      "Epoch 46: Train Loss: 174.91569801330567. Validation Loss: 192.43503814697266\n",
      "Epoch 47: Train Loss: 173.43977691650392. Validation Loss: 192.23176116943358\n",
      "Epoch 48: Train Loss: 173.03929050445558. Validation Loss: 191.2599169921875\n",
      "Epoch 49: Train Loss: 172.82074581146242. Validation Loss: 191.82232330322265\n",
      "Epoch 50: Train Loss: 173.3486388015747. Validation Loss: 192.00207427978515\n"
     ]
    }
   ],
   "source": [
    "train_losses = []\n",
    "val_losses = []\n",
    "\n",
    "for epoch in range(epochs):\n",
    "    \n",
    "    print(\"Epoch\", str(epoch + 1) + \": \", end=\"\")\n",
    "    running_tloss = 0.0\n",
    "    \n",
    "    model.train(True)\n",
    "    for i, (flow, label) in enumerate(train_dataloader):\n",
    "        flow = flow.to(device)\n",
    "        label = label.to(device).to(torch.float32)\n",
    "        \n",
    "        \n",
    "        optimizer.zero_grad()\n",
    "        output = model(flow)\n",
    "        \n",
    "        \n",
    "        loss = loss_fn(output, label).to(torch.float32)\n",
    "        \n",
    "        loss.backward()\n",
    "        optimizer.step()\n",
    "        \n",
    "        running_tloss += loss.item()\n",
    "\n",
    "    train_loss = running_tloss / (i+1)\n",
    "        \n",
    "    model.train(False)\n",
    "\n",
    "    running_vloss = 0.0\n",
    "    for i, (vflow, vlabel) in enumerate(val_dataloader):\n",
    "        vflow = vflow.to(device)\n",
    "        vlabel = vlabel.to(device).to(torch.float32)\n",
    "        voutput = model(vflow)\n",
    "        vloss = loss_fn(voutput, vlabel)\n",
    "        running_vloss += vloss.item()\n",
    "\n",
    "    val_loss = running_vloss / (i+1)\n",
    "        \n",
    "        \n",
    "    print(f'Train Loss: {train_loss}. Validation Loss: {val_loss}')\n",
    "    train_losses.append(train_loss)\n",
    "    val_losses.append(val_loss)"
   ]
  },
  {
   "cell_type": "code",
   "execution_count": 10,
   "id": "00679cf4",
   "metadata": {},
   "outputs": [],
   "source": [
    "results = {\n",
    "    \"train_losses\" : train_losses,\n",
    "    \"val_losses\" : val_losses,\n",
    "    \"epochs\" : epochs,\n",
    "    \"lr\" : lr,\n",
    "    \"reg\" : reg,\n",
    "    \"eps\" : eps, \n",
    "    \"down_sample_rate\" : down_sample_rate,\n",
    "    \"batch_size\" : batch_size\n",
    "}\n",
    "\n",
    "# Change the saving paths\n",
    "results_path = \"results_new/mul_video.txt\"\n",
    "model_path = \"results_new/mul_video.pt\"\n",
    "torch.save(results, results_path)\n",
    "torch.save(model.state_dict(), model_path)"
   ]
  },
  {
   "cell_type": "code",
   "execution_count": 11,
   "id": "bb021c7a",
   "metadata": {},
   "outputs": [
    {
     "name": "stdout",
     "output_type": "stream",
     "text": [
      "174.6301081994324\n"
     ]
    }
   ],
   "source": [
    "model.eval()\n",
    "vdata = next(iter(val_dataloader))\n",
    "vflow = vdata[0].to(device)\n",
    "vlabel = vdata[1].to(device)\n",
    "pred = model(vflow)\n",
    "pred_loss = loss_fn(pred, vlabel)\n",
    "print(pred_loss.item())"
   ]
  },
  {
   "cell_type": "code",
   "execution_count": 12,
   "id": "3ba7b424",
   "metadata": {},
   "outputs": [
    {
     "data": {
      "text/plain": [
       "tensor([[30.0023],\n",
       "        [19.0009],\n",
       "        [21.6374],\n",
       "        [ 7.2449],\n",
       "        [14.0638],\n",
       "        [17.7579],\n",
       "        [19.7703],\n",
       "        [25.2506],\n",
       "        [14.9600],\n",
       "        [13.6628],\n",
       "        [16.0398],\n",
       "        [ 5.5069],\n",
       "        [ 9.0605],\n",
       "        [ 3.8663],\n",
       "        [ 3.8430],\n",
       "        [11.7153]], device='cuda:0', grad_fn=<SqrtBackward0>)"
      ]
     },
     "execution_count": 12,
     "metadata": {},
     "output_type": "execute_result"
    }
   ],
   "source": [
    "pred"
   ]
  },
  {
   "cell_type": "code",
   "execution_count": 13,
   "id": "78dfa142",
   "metadata": {},
   "outputs": [
    {
     "data": {
      "text/plain": [
       "tensor([13.5715, 30.7948,  7.9212, 13.6738,  4.4549, 30.2688, 32.1445, 26.3566,\n",
       "        13.1949, 29.9149, 18.0765, 23.1288, -0.5514, 22.9249, 11.6206, 28.5075],\n",
       "       device='cuda:0', dtype=torch.float64)"
      ]
     },
     "execution_count": 13,
     "metadata": {},
     "output_type": "execute_result"
    }
   ],
   "source": [
    "vlabel"
   ]
  },
  {
   "cell_type": "code",
   "execution_count": 14,
   "id": "d2ff11d8",
   "metadata": {},
   "outputs": [
    {
     "data": {
      "text/plain": [
       "<matplotlib.legend.Legend at 0x7f6c814920d0>"
      ]
     },
     "execution_count": 14,
     "metadata": {},
     "output_type": "execute_result"
    },
    {
     "data": {
      "image/png": "[encoded data removed]",
      "text/plain": [
       "<Figure size 432x288 with 1 Axes>"
      ]
     },
     "metadata": {
      "needs_background": "light"
     },
     "output_type": "display_data"
    }
   ],
   "source": [
    "plt.plot(range(epochs), train_losses, 'g', label = \"Training loss\")\n",
    "plt.plot(range(epochs), val_losses, 'r', label = \"Validation loss\")\n",
    "plt.title('Training and Validation loss')\n",
    "plt.xlabel('Epochs')\n",
    "plt.ylabel('Loss')\n",
    "plt.legend()"
   ]
  },
  {
   "cell_type": "code",
   "execution_count": 15,
   "id": "ab16bba1",
   "metadata": {},
   "outputs": [],
   "source": [
    "def accuracy_geo(pred, label):\n",
    "    return torch.pow(torch.prod(pred / label), 1 / len(pred)).item()\n",
    "def accuracy_perc(pred, label):\n",
    "    return torch.mean(torch.abs(pred - label)/torch.abs(label))"
   ]
  },
  {
   "cell_type": "code",
   "execution_count": 17,
   "id": "f0afe848",
   "metadata": {},
   "outputs": [
    {
     "data": {
      "text/plain": [
       "0.08876544777085361"
      ]
     },
     "execution_count": 17,
     "metadata": {},
     "output_type": "execute_result"
    }
   ],
   "source": [
    "accuracy_geo(pred, vlabel)"
   ]
  },
  {
   "cell_type": "code",
   "execution_count": null,
   "id": "af130596",
   "metadata": {},
   "outputs": [],
   "source": []
  }
 ],
 "metadata": {
  "kernelspec": {
   "display_name": "Environment (conda_cs231n)",
   "language": "python",
   "name": "conda_cs231n"
  },
  "language_info": {
   "codemirror_mode": {
    "name": "ipython",
    "version": 3
   },
   "file_extension": ".py",
   "mimetype": "text/x-python",
   "name": "python",
   "nbconvert_exporter": "python",
   "pygments_lexer": "ipython3",
   "version": "3.9.12"
  }
 },
 "nbformat": 4,
 "nbformat_minor": 5
}
