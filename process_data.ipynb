{
 "cells": [
  {
   "cell_type": "code",
   "execution_count": 1,
   "id": "e2a30182",
   "metadata": {},
   "outputs": [
    {
     "name": "stderr",
     "output_type": "stream",
     "text": [
      "/home/ubuntu/anaconda3/envs/cs231n/lib/python3.9/site-packages/tqdm/auto.py:22: TqdmWarning: IProgress not found. Please update jupyter and ipywidgets. See https://ipywidgets.readthedocs.io/en/stable/user_install.html\n",
      "  from .autonotebook import tqdm as notebook_tqdm\n"
     ]
    }
   ],
   "source": [
    "import torch\n",
    "import torchvision\n",
    "import numpy as np\n",
    "from utils import *\n",
    "import time\n",
    "import os\n",
    "import random\n",
    "import torch.nn as nn\n",
    "from models import *\n",
    "from dataset import FlowSpeedData\n",
    "import matplotlib.pyplot as plt\n",
    "import cv2 as cv\n",
    "import h5py"
   ]
  },
  {
   "cell_type": "code",
   "execution_count": 2,
   "id": "bac08ead",
   "metadata": {},
   "outputs": [
    {
     "name": "stdout",
     "output_type": "stream",
     "text": [
      "Finished loading frames\n",
      "Finished 2016-02-08--14-56-28.h5\n"
     ]
    }
   ],
   "source": [
    "files = [\"2016-01-30--11-24-51.h5\", \"2016-01-30--13-46-00.h5\", \"2016-01-31--19-19-25.h5\", \n",
    "\"2016-02-02--10-16-58.h5\", \"2016-02-08--14-56-28.h5\"]\n",
    "flow_path = \"data/flow_mul\"\n",
    "label_save_path = \"data/label_mul\"\n",
    "model_path = \"pre_trained.pt\"\n",
    "samples = 800\n",
    "\n",
    "device = torch.device(\"cuda\") if torch.cuda.is_available() else torch.device(\"cpu\")\n",
    "model = torchvision.models.optical_flow.raft_small()\n",
    "model.load_state_dict(torch.load(model_path))\n",
    "model.to(device)\n",
    "model.eval()\n",
    "\n",
    "file_name = files[4]\n",
    "\n",
    "video_path = os.path.join(\"camera\", file_name)\n",
    "with h5py.File(video_path, \"r\") as f:\n",
    "    # Get the data\n",
    "    frame_data = list(f['X'])\n",
    "    print(\"Finished loading frames\")\n",
    "label_path = os.path.join(\"log\", file_name)\n",
    "with h5py.File(label_path, \"r\") as f:\n",
    "    speed_abs_label = np.array(list(f['speed']))\n",
    "    cam_ptr = np.array(list(f['cam1_ptr']))\n",
    "\n",
    "np.random.seed(10086)\n",
    "samples_id = np.random.randint(0, len(speed_abs_label) - 100, samples)\n",
    "\n",
    "for i in range(samples):\n",
    "    label_id = samples_id[i]\n",
    "    frame_id = int(cam_ptr[label_id])\n",
    "    image1 = frame_data[frame_id]\n",
    "    image2 = frame_data[frame_id + 2]\n",
    "    image1 = torch.from_numpy(image1).float().to(device)\n",
    "    image2 = torch.from_numpy(image2).float().to(device)\n",
    "\n",
    "    image1 = image1.unsqueeze(0)\n",
    "    image2 = image2.unsqueeze(0)\n",
    "\n",
    "    flow = model(image1, image2)\n",
    "    flow = flow[-1].squeeze()\n",
    "\n",
    "    flow = flow.cpu()\n",
    "    write_flow(flow, os.path.join(flow_path, file_name + \"_\" + str(i).rjust(4, '0')+ \".flo\"))\n",
    "\n",
    "speeds = speed_abs_label[samples_id]\n",
    "speeds_save = {\n",
    "    \"speed\" : speeds\n",
    "}\n",
    "torch.save(speeds_save, os.path.join(label_save_path, file_name + \"_speed.txt\")) \n",
    "print(f'Finished {file_name}')\n"
   ]
  },
  {
   "cell_type": "code",
   "execution_count": null,
   "id": "e4d9dfff",
   "metadata": {},
   "outputs": [],
   "source": []
  }
 ],
 "metadata": {
  "kernelspec": {
   "display_name": "Environment (conda_cs231n)",
   "language": "python",
   "name": "conda_cs231n"
  },
  "language_info": {
   "codemirror_mode": {
    "name": "ipython",
    "version": 3
   },
   "file_extension": ".py",
   "mimetype": "text/x-python",
   "name": "python",
   "nbconvert_exporter": "python",
   "pygments_lexer": "ipython3",
   "version": "3.9.12"
  }
 },
 "nbformat": 4,
 "nbformat_minor": 5
}
